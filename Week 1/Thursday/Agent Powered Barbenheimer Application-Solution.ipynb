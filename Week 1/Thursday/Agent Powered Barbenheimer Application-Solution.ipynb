{
 "cells": [
  {
   "cell_type": "markdown",
   "metadata": {},
   "source": [
    "# Questioning Barbie and Oppenheimer Through the Use of Agents\n",
    "\n",
    "In the following notebook we will build an application that queries both the Barbie and Oppenheimer movies Wikipedia pages, as well as their reviews. \n",
    "\n",
    "The main focus of this notebook is to showcase a brief introduction to Agents.\n",
    "\n",
    "## Build 🏗️\n",
    "\n",
    "There are 3 main tasks in this notebook:\n",
    "\n",
    "1. Contruct a Barbie retriever\n",
    "2. Construct an Oppenheimer retriever\n",
    "3. Combine the two and allow users to query both resources from a single input through the use of Agents\n",
    "\n",
    "## Ship 🚢\n",
    "\n",
    "Based on Tuesday's session - construct a Chainlit (or Gradio) application that allows users to interface with the application.\n",
    "\n",
    "## Share 🚀\n",
    "\n",
    "Make a social media post about your final application."
   ]
  },
  {
   "cell_type": "markdown",
   "metadata": {},
   "source": [
    "### Dependencies\n",
    "\n",
    "As always, let's start with some dependencies!"
   ]
  },
  {
   "cell_type": "code",
   "execution_count": 112,
   "metadata": {},
   "outputs": [],
   "source": [
    "!pip install -q -U langchain openai"
   ]
  },
  {
   "cell_type": "code",
   "execution_count": 1,
   "metadata": {},
   "outputs": [],
   "source": [
    "import getpass\n",
    "import os\n",
    "openai_api_key = getpass.getpass(\"Enter your OpenAI API Key: \")\n",
    "os.environ[\"OPENAI_API_KEY\"] = openai_api_key"
   ]
  },
  {
   "cell_type": "markdown",
   "metadata": {},
   "source": [
    "### LLM \n",
    "\n",
    "We will be leveraging OpenAI's `gpt-3.5-turbo` throughout the notebook, and we can keep it consistent throughout!"
   ]
  },
  {
   "cell_type": "code",
   "execution_count": 2,
   "metadata": {},
   "outputs": [],
   "source": [
    "from langchain.chat_models import ChatOpenAI\n",
    "llm = ChatOpenAI(model=\"gpt-3.5-turbo\", temperature = 0)"
   ]
  },
  {
   "cell_type": "markdown",
   "metadata": {},
   "source": [
    "### Data Collection and Transformation\n",
    "\n",
    "We'll be leveraging the `WikipediaLoader` tool to collect information from Wikipedia. \n",
    "\n",
    "Be sure to set the `doc_content_chars_max` parameter so that you capture the *entire* Wikipedia article content."
   ]
  },
  {
   "cell_type": "code",
   "execution_count": null,
   "metadata": {},
   "outputs": [],
   "source": [
    "!pip install -q -U wikipedia"
   ]
  },
  {
   "cell_type": "code",
   "execution_count": 3,
   "metadata": {},
   "outputs": [],
   "source": [
    "from langchain.document_loaders import WikipediaLoader, CSVLoader\n",
    "\n",
    "barbie_wikipedia_docs = WikipediaLoader(query=\"Barbie (film)\", load_max_docs=1, doc_content_chars_max=1_000_000).load()\n",
    "\n",
    "barbie_csv_docs = CSVLoader(file_path=\"./barbie_data/barbie.csv\", source_column=\"Review_Url\").load()"
   ]
  },
  {
   "cell_type": "markdown",
   "metadata": {},
   "source": [
    "Since we'll be using same format source documentation separated by topic, we can save ourselves some extra effort and set up our splitters once. \n",
    "\n",
    "We're going to leverage the `RecursiveCharacterTextSplitter` again, this time paying close attention to the format our Wikipedia articles and reviews are in so we can be sure to chunk them appropritately. \n",
    "\n",
    "> HINT: You can pass a list of separators when you intialize your `RecursiveTextSplitter`! They are acted on in order of element 0 -> element len(list).\n",
    "\n",
    "RELEVANT DOCS:\n",
    "- [`RecursiveCharacterTextSplitter`](https://api.python.langchain.com/en/latest/text_splitter/langchain.text_splitter.RecursiveCharacterTextSplitter.html#langchain.text_splitter.RecursiveCharacterTextSplitter)"
   ]
  },
  {
   "cell_type": "code",
   "execution_count": 4,
   "metadata": {},
   "outputs": [],
   "source": [
    "from langchain.text_splitter import RecursiveCharacterTextSplitter\n",
    "\n",
    "wikipedia_text_splitter = RecursiveCharacterTextSplitter(\n",
    "    chunk_size = 500,\n",
    "    chunk_overlap = 0,\n",
    "    length_function = len,\n",
    "    is_separator_regex= False,\n",
    "    separators = [\"\\n==\", \"\\n\", \" \"] # keep headings, then paragraphs, then sentences\n",
    ")\n",
    "\n",
    "csv_text_splitter = RecursiveCharacterTextSplitter(\n",
    "    chunk_size = 1000,\n",
    "    chunk_overlap = 50,\n",
    "    length_function = len,\n",
    "    is_separator_regex= False,\n",
    "    separators = [\"\\n\", \" \"] # keep paragraphs, then sentences\n",
    ")\n",
    "\n",
    "chunked_barbie_wikipedia_docs = wikipedia_text_splitter.transform_documents(barbie_wikipedia_docs)\n",
    "chunked_barbie_csv_docs = csv_text_splitter.transform_documents(barbie_csv_docs)"
   ]
  },
  {
   "cell_type": "markdown",
   "metadata": {},
   "source": [
    "#### Retrieval and Embedding Strategy\n",
    "\n",
    "We've already discussed the useful application of `CacheBackedEmbeddings`, so let's do it again!\n",
    "\n",
    "RELEVANT DOCS:\n",
    "- [`CacheBackedEmbeddings`](https://api.python.langchain.com/en/latest/embeddings/langchain.embeddings.cache.CacheBackedEmbeddings.html#langchain-embeddings-cache-cachebackedembeddings)"
   ]
  },
  {
   "cell_type": "code",
   "execution_count": 31,
   "metadata": {},
   "outputs": [],
   "source": [
    "!pip install -q -U rank_bm25 tiktoken faiss-cpu"
   ]
  },
  {
   "cell_type": "code",
   "execution_count": 5,
   "metadata": {},
   "outputs": [],
   "source": [
    "from langchain.retrievers import BM25Retriever, EnsembleRetriever\n",
    "from langchain.vectorstores import FAISS\n",
    "from langchain.embeddings.openai import OpenAIEmbeddings\n",
    "from langchain.embeddings import CacheBackedEmbeddings\n",
    "from langchain.storage import LocalFileStore\n",
    "\n",
    "# set up cached embeddings store\n",
    "store = LocalFileStore(\"./shared_cache/\")\n",
    "\n",
    "core_embeddings_model = OpenAIEmbeddings()\n",
    "\n",
    "embedder = CacheBackedEmbeddings.from_bytes_store(\n",
    "    core_embeddings_model, store, namespace=core_embeddings_model.model\n",
    ")"
   ]
  },
  {
   "cell_type": "markdown",
   "metadata": {},
   "source": [
    "We'll implement a `FAISS` vectorstore, and create a retriever from it."
   ]
  },
  {
   "cell_type": "code",
   "execution_count": 6,
   "metadata": {},
   "outputs": [],
   "source": [
    "barbie_csv_faiss_retriever = FAISS.from_documents(chunked_barbie_csv_docs, embedder).as_retriever()\n"
   ]
  },
  {
   "cell_type": "markdown",
   "metadata": {},
   "source": [
    "There are a number of excellent options to retrieve documents - we'll be looking at an additional example today, which is called the `EnsembleRetriever`.\n",
    "\n",
    "The method this is using is outlined in [this paper](https://plg.uwaterloo.ca/~gvcormac/cormacksigir09-rrf.pdf).\n",
    "\n",
    "The brief explanation is:\n",
    "\n",
    "1. We collect results from two different retrieval methods over the same corpus\n",
    "2. We apply a reranking algorithm to rerank our source documents to be the *most relevant* without losing specific or potentially low-ranked information rich documents\n",
    "3. We feed the top-k results into the LLM with our query as context.\n",
    "\n",
    "> HINT: Your weight list should be of type `List[float]` and the `sum(List[float])` should be `1`."
   ]
  },
  {
   "cell_type": "code",
   "execution_count": 100,
   "metadata": {},
   "outputs": [],
   "source": [
    "# set up BM25 retriever\n",
    "barbie_wikipedia_bm25_retriever = BM25Retriever.from_documents(\n",
    "    chunked_barbie_wikipedia_docs\n",
    ")\n",
    "barbie_wikipedia_bm25_retriever.k = 1\n",
    "\n",
    "# set up FAISS vector store\n",
    "barbie_wikipedia_faiss_store = FAISS.from_documents(\n",
    "    chunked_barbie_wikipedia_docs, embedder\n",
    ")\n",
    "\n",
    "barbie_wikipedia_faiss_retriever = barbie_wikipedia_faiss_store.as_retriever(search_kwargs={\"k\": 1})\n",
    "\n",
    "# set up ensemble retriever\n",
    "barbie_ensemble_retriever = EnsembleRetriever(\n",
    "    retrievers=[barbie_wikipedia_bm25_retriever, barbie_wikipedia_faiss_retriever],\n",
    "    weights=[0.25, 0.75] # should sum to 1\n",
    ")"
   ]
  },
  {
   "cell_type": "markdown",
   "metadata": {},
   "source": [
    "#### Retrieval Agent\n",
    "\n",
    "We can create a simple conversational retrieval Agent by using the built-ins provided by LangChain!\n",
    "\n",
    "> HINT: Be sure to provide good natural language descriptions of what the tool should be used for to get the best results.\n",
    "\n",
    "RELEVANT DOCS:\n",
    "- [`create_retriever_tool`](https://api.python.langchain.com/en/latest/agents/langchain.agents.agent_toolkits.conversational_retrieval.tool.create_retriever_tool.html#langchain.agents.agent_toolkits.conversational_retrieval.tool.create_retriever_tool)"
   ]
  },
  {
   "cell_type": "code",
   "execution_count": 101,
   "metadata": {},
   "outputs": [],
   "source": [
    "from langchain.agents.agent_toolkits import create_retriever_tool\n",
    "\n",
    "barbie_wikipedia_retrieval_tool = create_retriever_tool(\n",
    "    barbie_ensemble_retriever, \n",
    "    \"Wikipedia\",\n",
    "    \"Searches and returns documents regarding the plot, history, and cast of the Barbie movie\"\n",
    ")\n",
    "\n",
    "barbie_csv_retrieval_tool = create_retriever_tool(\n",
    "    barbie_csv_faiss_retriever,\n",
    "    \"PublicReviews\",\n",
    "    \"Searches and returns documents regarding public reviews of the Barbie movie\"\n",
    ")\n",
    "\n",
    "barbie_retriever_tools = [barbie_wikipedia_retrieval_tool, barbie_csv_retrieval_tool]"
   ]
  },
  {
   "cell_type": "markdown",
   "metadata": {},
   "source": [
    "Now that we've created our tools, we can combined them into an agent!\n",
    "\n",
    "RELEVANT DOCS:\n",
    "- [`create_conversational_retrieval_agent`](https://api.python.langchain.com/en/latest/agents/langchain.agents.agent_toolkits.conversational_retrieval.openai_functions.create_conversational_retrieval_agent.html#langchain.agents.agent_toolkits.conversational_retrieval.openai_functions.create_conversational_retrieval_agent)"
   ]
  },
  {
   "cell_type": "code",
   "execution_count": 102,
   "metadata": {},
   "outputs": [],
   "source": [
    "from langchain.agents.agent_toolkits import create_conversational_retrieval_agent\n",
    "\n",
    "barbie_retriever_agent_executor = create_conversational_retrieval_agent(llm, barbie_retriever_tools, verbose=True)"
   ]
  },
  {
   "cell_type": "code",
   "execution_count": 15,
   "metadata": {},
   "outputs": [
    {
     "name": "stdout",
     "output_type": "stream",
     "text": [
      "\n",
      "\n",
      "\u001b[1m> Entering new AgentExecutor chain...\u001b[0m\n",
      "\u001b[32;1m\u001b[1;3m\n",
      "Invoking: `PublicReviews` with `Barbie movie`\n",
      "\n",
      "\n",
      "\u001b[0m\u001b[33;1m\u001b[1;3m[Document(page_content=\"Review: The big summer blockbuster of 2023 is a wonderful visual spectacle with a great deal of creative physical comedy, centered in and around the universe of Barbie, Mattel's historic toy doll. Unfortunately, the film tries to be and do much more than what the filmmakers ultimately are able to control and reel in. That a movie about Barbie would be guilty of Americanization is no surprise, and in many ways more than befitting, but the Americanization here isn't just about the history of the toy itself and all its cultural impacts - Barbie also views everything through the eyes of Hollywood anno 2023 - which arguably is a very particular and perhaps not that representative outlook. Instead of utilizing the fine foundation laid in the film's first third, director and co-writer Greta Gervig (Lady Bird, Little Women) gets herself lost in a trite, divisive and most likely futile battle of the sexes, which will leave youths - and perhaps particularly Europeans - feeling confused and\", metadata={'source': '/review/rw9199947/?ref_=tt_urv', 'row': 116}), Document(page_content=': 53\\nReview_Date: 29 July 2023\\nAuthor: planktonrules\\nRating: 6\\nReview_Title: Good...not great\\nReview: \"Barbie\" is a movie that is setting all sorts of records, so it\\'s obvious that the film is touching many people. For some, it\\'s the fun of seeing a doll come to life, for others it\\'s the theme of empowerment that make the movie a big hit. As for me, I did like it and thought it was a pretty good movie...but it\\'s not for everyone.\\nReview_Url: /review/rw9199947/?ref_=tt_urv', metadata={'source': '/review/rw9199947/?ref_=tt_urv', 'row': 53}), Document(page_content=': 97\\nReview_Date: 21 July 2023\\nAuthor: MrDHWong\\nRating: 9\\nReview_Title: A darkly satirical look at gender structure in society\\nReview: \"Barbie\" is a comedy film based on the line of fashion dolls by Mattel. Directed and co-written by Greta Gerwig (\"Lady Bird\", \"Little Women\") and starring Margot Robbie and Ryan Gosling, it takes every opportunity to revel in its amusing premise with a darkly satirical look at gender structure in society.\\nReview_Url: /review/rw9199947/?ref_=tt_urv', metadata={'source': '/review/rw9199947/?ref_=tt_urv', 'row': 97}), Document(page_content=\": 104\\nReview_Date: 22 July 2023\\nAuthor: No-Life-101\\nRating: 8\\nReview_Title: Barbie has an existential crisis\\nReview: Barbie is a really fun movie that all ages can enjoy because while it's colourful and entertaining the main storyline can get emotional at times. The comedy in the movie is pretty funny too and got a few laughs from everyone in the cinema, the music is really nice and so are the choreographed dances. What I liked the most about this movie is that it was very doll-like, the food and drink were plastic and fake, the cars didn't have engines and just glided along the floor, and the actors were doll-like in their movements and how they interacted with their environment.\\nReview_Url: /review/rw9199947/?ref_=tt_urv\", metadata={'source': '/review/rw9199947/?ref_=tt_urv', 'row': 104})]\u001b[0m\u001b[32;1m\u001b[1;3mBased on the public reviews of the Barbie movie, opinions are mixed. Some people enjoyed the movie and found it entertaining, while others had some criticisms.\n",
      "\n",
      "One reviewer mentioned that the film tries to be more than just a movie about Barbie and explores themes of Americanization and Hollywood culture. This may be why some viewers found the movie to be philosophical or thought-provoking.\n",
      "\n",
      "Another reviewer described the movie as a darkly satirical look at gender structure in society. This suggests that the film delves into deeper themes and social commentary, which could contribute to its philosophical nature.\n",
      "\n",
      "Overall, it seems that the Barbie movie incorporates elements that go beyond the typical expectations of a children's film, which may have led to differing opinions on its philosophical nature.\u001b[0m\n",
      "\n",
      "\u001b[1m> Finished chain.\u001b[0m\n"
     ]
    },
    {
     "data": {
      "text/plain": [
       "{'input': 'Did people like Barbie, or did they find it too Philosphical? If they did, can you tell me why the movie is so Philosophical?',\n",
       " 'chat_history': [HumanMessage(content='Did people like Barbie, or did they find it too Philosphical? If they did, can you tell me why the movie is so Philosophical?', additional_kwargs={}, example=False),\n",
       "  AIMessage(content='', additional_kwargs={'function_call': {'name': 'PublicReviews', 'arguments': '{\\n  \"__arg1\": \"Barbie movie\"\\n}'}}, example=False),\n",
       "  FunctionMessage(content='[Document(page_content=\"Review: The big summer blockbuster of 2023 is a wonderful visual spectacle with a great deal of creative physical comedy, centered in and around the universe of Barbie, Mattel\\'s historic toy doll. Unfortunately, the film tries to be and do much more than what the filmmakers ultimately are able to control and reel in. That a movie about Barbie would be guilty of Americanization is no surprise, and in many ways more than befitting, but the Americanization here isn\\'t just about the history of the toy itself and all its cultural impacts - Barbie also views everything through the eyes of Hollywood anno 2023 - which arguably is a very particular and perhaps not that representative outlook. Instead of utilizing the fine foundation laid in the film\\'s first third, director and co-writer Greta Gervig (Lady Bird, Little Women) gets herself lost in a trite, divisive and most likely futile battle of the sexes, which will leave youths - and perhaps particularly Europeans - feeling confused and\", metadata={\\'source\\': \\'/review/rw9199947/?ref_=tt_urv\\', \\'row\\': 116}), Document(page_content=\\': 53\\\\nReview_Date: 29 July 2023\\\\nAuthor: planktonrules\\\\nRating: 6\\\\nReview_Title: Good...not great\\\\nReview: \"Barbie\" is a movie that is setting all sorts of records, so it\\\\\\'s obvious that the film is touching many people. For some, it\\\\\\'s the fun of seeing a doll come to life, for others it\\\\\\'s the theme of empowerment that make the movie a big hit. As for me, I did like it and thought it was a pretty good movie...but it\\\\\\'s not for everyone.\\\\nReview_Url: /review/rw9199947/?ref_=tt_urv\\', metadata={\\'source\\': \\'/review/rw9199947/?ref_=tt_urv\\', \\'row\\': 53}), Document(page_content=\\': 97\\\\nReview_Date: 21 July 2023\\\\nAuthor: MrDHWong\\\\nRating: 9\\\\nReview_Title: A darkly satirical look at gender structure in society\\\\nReview: \"Barbie\" is a comedy film based on the line of fashion dolls by Mattel. Directed and co-written by Greta Gerwig (\"Lady Bird\", \"Little Women\") and starring Margot Robbie and Ryan Gosling, it takes every opportunity to revel in its amusing premise with a darkly satirical look at gender structure in society.\\\\nReview_Url: /review/rw9199947/?ref_=tt_urv\\', metadata={\\'source\\': \\'/review/rw9199947/?ref_=tt_urv\\', \\'row\\': 97}), Document(page_content=\": 104\\\\nReview_Date: 22 July 2023\\\\nAuthor: No-Life-101\\\\nRating: 8\\\\nReview_Title: Barbie has an existential crisis\\\\nReview: Barbie is a really fun movie that all ages can enjoy because while it\\'s colourful and entertaining the main storyline can get emotional at times. The comedy in the movie is pretty funny too and got a few laughs from everyone in the cinema, the music is really nice and so are the choreographed dances. What I liked the most about this movie is that it was very doll-like, the food and drink were plastic and fake, the cars didn\\'t have engines and just glided along the floor, and the actors were doll-like in their movements and how they interacted with their environment.\\\\nReview_Url: /review/rw9199947/?ref_=tt_urv\", metadata={\\'source\\': \\'/review/rw9199947/?ref_=tt_urv\\', \\'row\\': 104})]', additional_kwargs={}, name='PublicReviews'),\n",
       "  AIMessage(content=\"Based on the public reviews of the Barbie movie, opinions are mixed. Some people enjoyed the movie and found it entertaining, while others had some criticisms.\\n\\nOne reviewer mentioned that the film tries to be more than just a movie about Barbie and explores themes of Americanization and Hollywood culture. This may be why some viewers found the movie to be philosophical or thought-provoking.\\n\\nAnother reviewer described the movie as a darkly satirical look at gender structure in society. This suggests that the film delves into deeper themes and social commentary, which could contribute to its philosophical nature.\\n\\nOverall, it seems that the Barbie movie incorporates elements that go beyond the typical expectations of a children's film, which may have led to differing opinions on its philosophical nature.\", additional_kwargs={}, example=False)],\n",
       " 'output': \"Based on the public reviews of the Barbie movie, opinions are mixed. Some people enjoyed the movie and found it entertaining, while others had some criticisms.\\n\\nOne reviewer mentioned that the film tries to be more than just a movie about Barbie and explores themes of Americanization and Hollywood culture. This may be why some viewers found the movie to be philosophical or thought-provoking.\\n\\nAnother reviewer described the movie as a darkly satirical look at gender structure in society. This suggests that the film delves into deeper themes and social commentary, which could contribute to its philosophical nature.\\n\\nOverall, it seems that the Barbie movie incorporates elements that go beyond the typical expectations of a children's film, which may have led to differing opinions on its philosophical nature.\",\n",
       " 'intermediate_steps': [(_FunctionsAgentAction(tool='PublicReviews', tool_input='Barbie movie', log='\\nInvoking: `PublicReviews` with `Barbie movie`\\n\\n\\n', message_log=[AIMessage(content='', additional_kwargs={'function_call': {'name': 'PublicReviews', 'arguments': '{\\n  \"__arg1\": \"Barbie movie\"\\n}'}}, example=False)]),\n",
       "   [Document(page_content=\"Review: The big summer blockbuster of 2023 is a wonderful visual spectacle with a great deal of creative physical comedy, centered in and around the universe of Barbie, Mattel's historic toy doll. Unfortunately, the film tries to be and do much more than what the filmmakers ultimately are able to control and reel in. That a movie about Barbie would be guilty of Americanization is no surprise, and in many ways more than befitting, but the Americanization here isn't just about the history of the toy itself and all its cultural impacts - Barbie also views everything through the eyes of Hollywood anno 2023 - which arguably is a very particular and perhaps not that representative outlook. Instead of utilizing the fine foundation laid in the film's first third, director and co-writer Greta Gervig (Lady Bird, Little Women) gets herself lost in a trite, divisive and most likely futile battle of the sexes, which will leave youths - and perhaps particularly Europeans - feeling confused and\", metadata={'source': '/review/rw9199947/?ref_=tt_urv', 'row': 116}),\n",
       "    Document(page_content=': 53\\nReview_Date: 29 July 2023\\nAuthor: planktonrules\\nRating: 6\\nReview_Title: Good...not great\\nReview: \"Barbie\" is a movie that is setting all sorts of records, so it\\'s obvious that the film is touching many people. For some, it\\'s the fun of seeing a doll come to life, for others it\\'s the theme of empowerment that make the movie a big hit. As for me, I did like it and thought it was a pretty good movie...but it\\'s not for everyone.\\nReview_Url: /review/rw9199947/?ref_=tt_urv', metadata={'source': '/review/rw9199947/?ref_=tt_urv', 'row': 53}),\n",
       "    Document(page_content=': 97\\nReview_Date: 21 July 2023\\nAuthor: MrDHWong\\nRating: 9\\nReview_Title: A darkly satirical look at gender structure in society\\nReview: \"Barbie\" is a comedy film based on the line of fashion dolls by Mattel. Directed and co-written by Greta Gerwig (\"Lady Bird\", \"Little Women\") and starring Margot Robbie and Ryan Gosling, it takes every opportunity to revel in its amusing premise with a darkly satirical look at gender structure in society.\\nReview_Url: /review/rw9199947/?ref_=tt_urv', metadata={'source': '/review/rw9199947/?ref_=tt_urv', 'row': 97}),\n",
       "    Document(page_content=\": 104\\nReview_Date: 22 July 2023\\nAuthor: No-Life-101\\nRating: 8\\nReview_Title: Barbie has an existential crisis\\nReview: Barbie is a really fun movie that all ages can enjoy because while it's colourful and entertaining the main storyline can get emotional at times. The comedy in the movie is pretty funny too and got a few laughs from everyone in the cinema, the music is really nice and so are the choreographed dances. What I liked the most about this movie is that it was very doll-like, the food and drink were plastic and fake, the cars didn't have engines and just glided along the floor, and the actors were doll-like in their movements and how they interacted with their environment.\\nReview_Url: /review/rw9199947/?ref_=tt_urv\", metadata={'source': '/review/rw9199947/?ref_=tt_urv', 'row': 104})])]}"
      ]
     },
     "execution_count": 15,
     "metadata": {},
     "output_type": "execute_result"
    }
   ],
   "source": [
    "barbie_retriever_agent_executor({\"input\" : \"Did people like Barbie, or did they find it too Philosphical? If they did, can you tell me why the movie is so Philosophical?\"})"
   ]
  },
  {
   "cell_type": "code",
   "execution_count": 16,
   "metadata": {},
   "outputs": [
    {
     "name": "stdout",
     "output_type": "stream",
     "text": [
      "\n",
      "\n",
      "\u001b[1m> Entering new AgentExecutor chain...\u001b[0m\n",
      "\u001b[32;1m\u001b[1;3m\n",
      "Invoking: `Wikipedia` with `Barbie movie`\n",
      "\n",
      "\n",
      "\u001b[0m\u001b[36;1m\u001b[1;3m[Document(page_content='Barbie is a 2023 American fantasy comedy film directed by Greta Gerwig from a screenplay she wrote with Noah Baumbach. Based on the Barbie fashion dolls by Mattel, it is the first live-action Barbie film after numerous computer-animated films and specials. The film follows Barbie (Margot Robbie) and Ken (Ryan Gosling) on a journey of self-discovery following an existential crisis. It features an ensemble supporting cast, including America Ferrera, Kate McKinnon, Helen Mirren, Issa Rae, Simu Liu,', metadata={'title': 'Barbie (film)', 'summary': 'Barbie is a 2023 American fantasy comedy film directed by Greta Gerwig from a screenplay she wrote with Noah Baumbach. Based on the Barbie fashion dolls by Mattel, it is the first live-action Barbie film after numerous computer-animated films and specials. The film follows Barbie (Margot Robbie) and Ken (Ryan Gosling) on a journey of self-discovery following an existential crisis. It features an ensemble supporting cast, including America Ferrera, Kate McKinnon, Helen Mirren, Issa Rae, Simu Liu, Michael Cera, Rhea Perlman, and Will Ferrell.\\nA live-action Barbie film was announced in September 2009 by Universal Pictures with Laurence Mark producing. Development began in April 2014, when Sony Pictures acquired the film rights. Following multiple writer and director changes and the casting of Amy Schumer and later Anne Hathaway as Barbie, the rights were transferred to Warner Bros. Pictures in October 2018. Robbie was cast in 2019, after Gal Gadot turned down the role due to scheduling conflicts, and Gerwig was announced as director and co-writer with Baumbach in 2020. The rest of the cast were announced in early 2022. Filming took place primarily at Warner Bros. Studios, Leavesden, in England and on the Venice Beach Skatepark in Los Angeles from March to July 2022.\\nBarbie premiered at the Shrine Auditorium in Los Angeles on July 9, 2023, and was theatrically released in the United States on July 21 by Warner Bros. Pictures. Its simultaneous release with Universal\\'s Oppenheimer led to the \"Barbenheimer\" cultural phenomenon, which encouraged audiences to see both films as a double feature. The film received critical acclaim and has grossed $1.203 billion worldwide, becoming the second highest-grossing film of 2023 as well as the highest-grossing film solely directed by a woman.', 'source': 'https://en.wikipedia.org/wiki/Barbie_(film)'}), Document(page_content=\"Barbie's self-confidence.\", metadata={'title': 'Barbie (film)', 'summary': 'Barbie is a 2023 American fantasy comedy film directed by Greta Gerwig from a screenplay she wrote with Noah Baumbach. Based on the Barbie fashion dolls by Mattel, it is the first live-action Barbie film after numerous computer-animated films and specials. The film follows Barbie (Margot Robbie) and Ken (Ryan Gosling) on a journey of self-discovery following an existential crisis. It features an ensemble supporting cast, including America Ferrera, Kate McKinnon, Helen Mirren, Issa Rae, Simu Liu, Michael Cera, Rhea Perlman, and Will Ferrell.\\nA live-action Barbie film was announced in September 2009 by Universal Pictures with Laurence Mark producing. Development began in April 2014, when Sony Pictures acquired the film rights. Following multiple writer and director changes and the casting of Amy Schumer and later Anne Hathaway as Barbie, the rights were transferred to Warner Bros. Pictures in October 2018. Robbie was cast in 2019, after Gal Gadot turned down the role due to scheduling conflicts, and Gerwig was announced as director and co-writer with Baumbach in 2020. The rest of the cast were announced in early 2022. Filming took place primarily at Warner Bros. Studios, Leavesden, in England and on the Venice Beach Skatepark in Los Angeles from March to July 2022.\\nBarbie premiered at the Shrine Auditorium in Los Angeles on July 9, 2023, and was theatrically released in the United States on July 21 by Warner Bros. Pictures. Its simultaneous release with Universal\\'s Oppenheimer led to the \"Barbenheimer\" cultural phenomenon, which encouraged audiences to see both films as a double feature. The film received critical acclaim and has grossed $1.203 billion worldwide, becoming the second highest-grossing film of 2023 as well as the highest-grossing film solely directed by a woman.', 'source': 'https://en.wikipedia.org/wiki/Barbie_(film)'}), Document(page_content='fictional Barbieland. While many reviews of the film interpreted this as a critique of the song, director Greta Gerwig said that she was a fan of Matchbox Twenty and \"I never put anything in a movie I don’t love.\"', metadata={'title': 'Barbie (film)', 'summary': 'Barbie is a 2023 American fantasy comedy film directed by Greta Gerwig from a screenplay she wrote with Noah Baumbach. Based on the Barbie fashion dolls by Mattel, it is the first live-action Barbie film after numerous computer-animated films and specials. The film follows Barbie (Margot Robbie) and Ken (Ryan Gosling) on a journey of self-discovery following an existential crisis. It features an ensemble supporting cast, including America Ferrera, Kate McKinnon, Helen Mirren, Issa Rae, Simu Liu, Michael Cera, Rhea Perlman, and Will Ferrell.\\nA live-action Barbie film was announced in September 2009 by Universal Pictures with Laurence Mark producing. Development began in April 2014, when Sony Pictures acquired the film rights. Following multiple writer and director changes and the casting of Amy Schumer and later Anne Hathaway as Barbie, the rights were transferred to Warner Bros. Pictures in October 2018. Robbie was cast in 2019, after Gal Gadot turned down the role due to scheduling conflicts, and Gerwig was announced as director and co-writer with Baumbach in 2020. The rest of the cast were announced in early 2022. Filming took place primarily at Warner Bros. Studios, Leavesden, in England and on the Venice Beach Skatepark in Los Angeles from March to July 2022.\\nBarbie premiered at the Shrine Auditorium in Los Angeles on July 9, 2023, and was theatrically released in the United States on July 21 by Warner Bros. Pictures. Its simultaneous release with Universal\\'s Oppenheimer led to the \"Barbenheimer\" cultural phenomenon, which encouraged audiences to see both films as a double feature. The film received critical acclaim and has grossed $1.203 billion worldwide, becoming the second highest-grossing film of 2023 as well as the highest-grossing film solely directed by a woman.', 'source': 'https://en.wikipedia.org/wiki/Barbie_(film)'}), Document(page_content=\"Gerwig's vision to Milton Glaser's I Love New York logo as he felt Gerwig created the film's characters as a way of understanding the contemporary world. Ken has the only power ballad in the film, and Gerwig had identified it as the moment in which she felt the film transcended what a Barbie movie traditionally should have been.\", metadata={'title': 'Barbie (film)', 'summary': 'Barbie is a 2023 American fantasy comedy film directed by Greta Gerwig from a screenplay she wrote with Noah Baumbach. Based on the Barbie fashion dolls by Mattel, it is the first live-action Barbie film after numerous computer-animated films and specials. The film follows Barbie (Margot Robbie) and Ken (Ryan Gosling) on a journey of self-discovery following an existential crisis. It features an ensemble supporting cast, including America Ferrera, Kate McKinnon, Helen Mirren, Issa Rae, Simu Liu, Michael Cera, Rhea Perlman, and Will Ferrell.\\nA live-action Barbie film was announced in September 2009 by Universal Pictures with Laurence Mark producing. Development began in April 2014, when Sony Pictures acquired the film rights. Following multiple writer and director changes and the casting of Amy Schumer and later Anne Hathaway as Barbie, the rights were transferred to Warner Bros. Pictures in October 2018. Robbie was cast in 2019, after Gal Gadot turned down the role due to scheduling conflicts, and Gerwig was announced as director and co-writer with Baumbach in 2020. The rest of the cast were announced in early 2022. Filming took place primarily at Warner Bros. Studios, Leavesden, in England and on the Venice Beach Skatepark in Los Angeles from March to July 2022.\\nBarbie premiered at the Shrine Auditorium in Los Angeles on July 9, 2023, and was theatrically released in the United States on July 21 by Warner Bros. Pictures. Its simultaneous release with Universal\\'s Oppenheimer led to the \"Barbenheimer\" cultural phenomenon, which encouraged audiences to see both films as a double feature. The film received critical acclaim and has grossed $1.203 billion worldwide, becoming the second highest-grossing film of 2023 as well as the highest-grossing film solely directed by a woman.', 'source': 'https://en.wikipedia.org/wiki/Barbie_(film)'})]\u001b[0m\u001b[32;1m\u001b[1;3mThe Barbie movie is a 2023 American fantasy comedy film directed by Greta Gerwig. It is the first live-action Barbie film based on the Barbie fashion dolls by Mattel. The film follows Barbie (played by Margot Robbie) and Ken (played by Ryan Gosling) on a journey of self-discovery following an existential crisis. The movie explores themes of self-confidence and features an ensemble supporting cast, including America Ferrera, Kate McKinnon, Helen Mirren, Issa Rae, Simu Liu, Michael Cera, Rhea Perlman, and Will Ferrell.\u001b[0m\n",
      "\n",
      "\u001b[1m> Finished chain.\u001b[0m\n"
     ]
    },
    {
     "data": {
      "text/plain": [
       "{'input': 'What is a very quick summary of the plot of the Barbie movie?',\n",
       " 'chat_history': [AIMessage(content='The Barbie movie is a 2023 American fantasy comedy film directed by Greta Gerwig. It is the first live-action Barbie film based on the Barbie fashion dolls by Mattel. The film follows Barbie (played by Margot Robbie) and Ken (played by Ryan Gosling) on a journey of self-discovery following an existential crisis. The movie explores themes of self-confidence and features an ensemble supporting cast, including America Ferrera, Kate McKinnon, Helen Mirren, Issa Rae, Simu Liu, Michael Cera, Rhea Perlman, and Will Ferrell.', additional_kwargs={}, example=False)],\n",
       " 'output': 'The Barbie movie is a 2023 American fantasy comedy film directed by Greta Gerwig. It is the first live-action Barbie film based on the Barbie fashion dolls by Mattel. The film follows Barbie (played by Margot Robbie) and Ken (played by Ryan Gosling) on a journey of self-discovery following an existential crisis. The movie explores themes of self-confidence and features an ensemble supporting cast, including America Ferrera, Kate McKinnon, Helen Mirren, Issa Rae, Simu Liu, Michael Cera, Rhea Perlman, and Will Ferrell.',\n",
       " 'intermediate_steps': [(_FunctionsAgentAction(tool='Wikipedia', tool_input='Barbie movie', log='\\nInvoking: `Wikipedia` with `Barbie movie`\\n\\n\\n', message_log=[AIMessage(content='', additional_kwargs={'function_call': {'name': 'Wikipedia', 'arguments': '{\\n  \"__arg1\": \"Barbie movie\"\\n}'}}, example=False)]),\n",
       "   [Document(page_content='Barbie is a 2023 American fantasy comedy film directed by Greta Gerwig from a screenplay she wrote with Noah Baumbach. Based on the Barbie fashion dolls by Mattel, it is the first live-action Barbie film after numerous computer-animated films and specials. The film follows Barbie (Margot Robbie) and Ken (Ryan Gosling) on a journey of self-discovery following an existential crisis. It features an ensemble supporting cast, including America Ferrera, Kate McKinnon, Helen Mirren, Issa Rae, Simu Liu,', metadata={'title': 'Barbie (film)', 'summary': 'Barbie is a 2023 American fantasy comedy film directed by Greta Gerwig from a screenplay she wrote with Noah Baumbach. Based on the Barbie fashion dolls by Mattel, it is the first live-action Barbie film after numerous computer-animated films and specials. The film follows Barbie (Margot Robbie) and Ken (Ryan Gosling) on a journey of self-discovery following an existential crisis. It features an ensemble supporting cast, including America Ferrera, Kate McKinnon, Helen Mirren, Issa Rae, Simu Liu, Michael Cera, Rhea Perlman, and Will Ferrell.\\nA live-action Barbie film was announced in September 2009 by Universal Pictures with Laurence Mark producing. Development began in April 2014, when Sony Pictures acquired the film rights. Following multiple writer and director changes and the casting of Amy Schumer and later Anne Hathaway as Barbie, the rights were transferred to Warner Bros. Pictures in October 2018. Robbie was cast in 2019, after Gal Gadot turned down the role due to scheduling conflicts, and Gerwig was announced as director and co-writer with Baumbach in 2020. The rest of the cast were announced in early 2022. Filming took place primarily at Warner Bros. Studios, Leavesden, in England and on the Venice Beach Skatepark in Los Angeles from March to July 2022.\\nBarbie premiered at the Shrine Auditorium in Los Angeles on July 9, 2023, and was theatrically released in the United States on July 21 by Warner Bros. Pictures. Its simultaneous release with Universal\\'s Oppenheimer led to the \"Barbenheimer\" cultural phenomenon, which encouraged audiences to see both films as a double feature. The film received critical acclaim and has grossed $1.203 billion worldwide, becoming the second highest-grossing film of 2023 as well as the highest-grossing film solely directed by a woman.', 'source': 'https://en.wikipedia.org/wiki/Barbie_(film)'}),\n",
       "    Document(page_content=\"Barbie's self-confidence.\", metadata={'title': 'Barbie (film)', 'summary': 'Barbie is a 2023 American fantasy comedy film directed by Greta Gerwig from a screenplay she wrote with Noah Baumbach. Based on the Barbie fashion dolls by Mattel, it is the first live-action Barbie film after numerous computer-animated films and specials. The film follows Barbie (Margot Robbie) and Ken (Ryan Gosling) on a journey of self-discovery following an existential crisis. It features an ensemble supporting cast, including America Ferrera, Kate McKinnon, Helen Mirren, Issa Rae, Simu Liu, Michael Cera, Rhea Perlman, and Will Ferrell.\\nA live-action Barbie film was announced in September 2009 by Universal Pictures with Laurence Mark producing. Development began in April 2014, when Sony Pictures acquired the film rights. Following multiple writer and director changes and the casting of Amy Schumer and later Anne Hathaway as Barbie, the rights were transferred to Warner Bros. Pictures in October 2018. Robbie was cast in 2019, after Gal Gadot turned down the role due to scheduling conflicts, and Gerwig was announced as director and co-writer with Baumbach in 2020. The rest of the cast were announced in early 2022. Filming took place primarily at Warner Bros. Studios, Leavesden, in England and on the Venice Beach Skatepark in Los Angeles from March to July 2022.\\nBarbie premiered at the Shrine Auditorium in Los Angeles on July 9, 2023, and was theatrically released in the United States on July 21 by Warner Bros. Pictures. Its simultaneous release with Universal\\'s Oppenheimer led to the \"Barbenheimer\" cultural phenomenon, which encouraged audiences to see both films as a double feature. The film received critical acclaim and has grossed $1.203 billion worldwide, becoming the second highest-grossing film of 2023 as well as the highest-grossing film solely directed by a woman.', 'source': 'https://en.wikipedia.org/wiki/Barbie_(film)'}),\n",
       "    Document(page_content='fictional Barbieland. While many reviews of the film interpreted this as a critique of the song, director Greta Gerwig said that she was a fan of Matchbox Twenty and \"I never put anything in a movie I don’t love.\"', metadata={'title': 'Barbie (film)', 'summary': 'Barbie is a 2023 American fantasy comedy film directed by Greta Gerwig from a screenplay she wrote with Noah Baumbach. Based on the Barbie fashion dolls by Mattel, it is the first live-action Barbie film after numerous computer-animated films and specials. The film follows Barbie (Margot Robbie) and Ken (Ryan Gosling) on a journey of self-discovery following an existential crisis. It features an ensemble supporting cast, including America Ferrera, Kate McKinnon, Helen Mirren, Issa Rae, Simu Liu, Michael Cera, Rhea Perlman, and Will Ferrell.\\nA live-action Barbie film was announced in September 2009 by Universal Pictures with Laurence Mark producing. Development began in April 2014, when Sony Pictures acquired the film rights. Following multiple writer and director changes and the casting of Amy Schumer and later Anne Hathaway as Barbie, the rights were transferred to Warner Bros. Pictures in October 2018. Robbie was cast in 2019, after Gal Gadot turned down the role due to scheduling conflicts, and Gerwig was announced as director and co-writer with Baumbach in 2020. The rest of the cast were announced in early 2022. Filming took place primarily at Warner Bros. Studios, Leavesden, in England and on the Venice Beach Skatepark in Los Angeles from March to July 2022.\\nBarbie premiered at the Shrine Auditorium in Los Angeles on July 9, 2023, and was theatrically released in the United States on July 21 by Warner Bros. Pictures. Its simultaneous release with Universal\\'s Oppenheimer led to the \"Barbenheimer\" cultural phenomenon, which encouraged audiences to see both films as a double feature. The film received critical acclaim and has grossed $1.203 billion worldwide, becoming the second highest-grossing film of 2023 as well as the highest-grossing film solely directed by a woman.', 'source': 'https://en.wikipedia.org/wiki/Barbie_(film)'}),\n",
       "    Document(page_content=\"Gerwig's vision to Milton Glaser's I Love New York logo as he felt Gerwig created the film's characters as a way of understanding the contemporary world. Ken has the only power ballad in the film, and Gerwig had identified it as the moment in which she felt the film transcended what a Barbie movie traditionally should have been.\", metadata={'title': 'Barbie (film)', 'summary': 'Barbie is a 2023 American fantasy comedy film directed by Greta Gerwig from a screenplay she wrote with Noah Baumbach. Based on the Barbie fashion dolls by Mattel, it is the first live-action Barbie film after numerous computer-animated films and specials. The film follows Barbie (Margot Robbie) and Ken (Ryan Gosling) on a journey of self-discovery following an existential crisis. It features an ensemble supporting cast, including America Ferrera, Kate McKinnon, Helen Mirren, Issa Rae, Simu Liu, Michael Cera, Rhea Perlman, and Will Ferrell.\\nA live-action Barbie film was announced in September 2009 by Universal Pictures with Laurence Mark producing. Development began in April 2014, when Sony Pictures acquired the film rights. Following multiple writer and director changes and the casting of Amy Schumer and later Anne Hathaway as Barbie, the rights were transferred to Warner Bros. Pictures in October 2018. Robbie was cast in 2019, after Gal Gadot turned down the role due to scheduling conflicts, and Gerwig was announced as director and co-writer with Baumbach in 2020. The rest of the cast were announced in early 2022. Filming took place primarily at Warner Bros. Studios, Leavesden, in England and on the Venice Beach Skatepark in Los Angeles from March to July 2022.\\nBarbie premiered at the Shrine Auditorium in Los Angeles on July 9, 2023, and was theatrically released in the United States on July 21 by Warner Bros. Pictures. Its simultaneous release with Universal\\'s Oppenheimer led to the \"Barbenheimer\" cultural phenomenon, which encouraged audiences to see both films as a double feature. The film received critical acclaim and has grossed $1.203 billion worldwide, becoming the second highest-grossing film of 2023 as well as the highest-grossing film solely directed by a woman.', 'source': 'https://en.wikipedia.org/wiki/Barbie_(film)'})])]}"
      ]
     },
     "execution_count": 16,
     "metadata": {},
     "output_type": "execute_result"
    }
   ],
   "source": [
    "barbie_retriever_agent_executor({\"input\" : \"What is a very quick summary of the plot of the Barbie movie?\"})"
   ]
  },
  {
   "cell_type": "markdown",
   "metadata": {},
   "source": [
    "### Oppenheimer Retrieval System\n",
    "\n",
    "We're going to repourpose some of what we created previously, but this time we'll explore a different multi-source retrieval system."
   ]
  },
  {
   "cell_type": "code",
   "execution_count": 17,
   "metadata": {},
   "outputs": [],
   "source": [
    "oppenheimer_wikipedia_docs = WikipediaLoader(query=\"Oppenheimer (film)\", load_max_docs=1, doc_content_chars_max=1_000_000).load()\n",
    "\n",
    "oppenheimer_csv_docs = CSVLoader(file_path=\"./oppenheimer_data/oppenheimer.csv\", source_column=\"Review_Url\").load()"
   ]
  },
  {
   "cell_type": "code",
   "execution_count": 18,
   "metadata": {},
   "outputs": [],
   "source": [
    "chunked_opp_wikipedia_docs = wikipedia_text_splitter.transform_documents(oppenheimer_wikipedia_docs)\n",
    "chunked_opp_csv_docs = csv_text_splitter.transform_documents(oppenheimer_csv_docs)"
   ]
  },
  {
   "cell_type": "code",
   "execution_count": 103,
   "metadata": {},
   "outputs": [],
   "source": [
    "opp_csv_faiss_retriever = FAISS.from_documents(chunked_opp_csv_docs, embedder).as_retriever()\n",
    "\n",
    "# set up BM25 retriever\n",
    "opp_wikipedia_bm25_retriever = BM25Retriever.from_documents(\n",
    "    chunked_opp_wikipedia_docs\n",
    ")\n",
    "\n",
    "opp_wikipedia_bm25_retriever.k = 1\n",
    "\n",
    "# set up FAISS vector store\n",
    "opp_wikipedia_faiss_store = FAISS.from_documents(\n",
    "    chunked_opp_wikipedia_docs, embedder\n",
    ")\n",
    "\n",
    "opp_wikipedia_faiss_retriever = opp_wikipedia_faiss_store.as_retriever(search_kwargs={\"k\": 1})\n",
    "\n",
    "# set up ensemble retriever\n",
    "opp_ensemble_retriever = EnsembleRetriever(\n",
    "    retrievers=[opp_wikipedia_bm25_retriever, opp_wikipedia_faiss_retriever],\n",
    "    weights=[0.25, 0.75] # should sum to 1\n",
    ")"
   ]
  },
  {
   "cell_type": "markdown",
   "metadata": {},
   "source": [
    "#### Multi-source chain\n",
    "\n",
    "We're going to allow the LLM to decide which information is most -> least valuable.\n",
    "\n",
    "The way we'll do this is with LangChain's rather powerful \"Expression Language\"!\n",
    "\n",
    "> HINT: You can leverage [this](https://python.langchain.com/docs/use_cases/question_answering/how_to/multiple_retrieval) resource if you get stuck - but experiment with different prompts/formats."
   ]
  },
  {
   "cell_type": "code",
   "execution_count": 104,
   "metadata": {},
   "outputs": [],
   "source": [
    "from langchain.prompts import ChatPromptTemplate\n",
    "\n",
    "system_message = \"\"\"Use the information from the below two sources to answer any questions.\n",
    "\n",
    "Source 1: public user reviews about the Oppenheimer movie\n",
    "<source1>\n",
    "{source1}\n",
    "</source1>\n",
    "\n",
    "Source 2: the wikipedia page for the Oppenheimer movie including the plot summary, cast, and production information\n",
    "<source2>\n",
    "{source2}\n",
    "</source2>\n",
    "\"\"\"\n",
    "\n",
    "prompt = ChatPromptTemplate.from_messages([(\"system\", system_message), (\"human\", \"{question}\")])"
   ]
  },
  {
   "cell_type": "code",
   "execution_count": 105,
   "metadata": {},
   "outputs": [],
   "source": [
    "oppenheimer_multisource_chain = {\n",
    "    \"source1\": (lambda x: x[\"question\"]) | opp_ensemble_retriever,\n",
    "    \"source2\": (lambda x: x[\"question\"]) | opp_csv_faiss_retriever,\n",
    "    \"question\": lambda x: x[\"question\"],\n",
    "} | prompt | llm"
   ]
  },
  {
   "cell_type": "code",
   "execution_count": 106,
   "metadata": {},
   "outputs": [
    {
     "data": {
      "text/plain": [
       "AIMessage(content=\"People generally thought highly of the Oppenheimer movie. Critics praised the screenplay, performances of the cast (especially Cillian Murphy and Robert Downey Jr.), and the visuals. It was frequently cited as one of the best films of 2023. On the review aggregator website Rotten Tomatoes, 93% of 450 critics' reviews were positive, with an average rating of 8.6/10. The movie received critical acclaim, with particular praise for the cast performances, screenplay, and visuals. However, some criticism was aimed towards the writing of the female characters. Overall, the movie was considered compelling, engaging, and simple to understand, and it sparked an interest in history.\", additional_kwargs={}, example=False)"
      ]
     },
     "execution_count": 106,
     "metadata": {},
     "output_type": "execute_result"
    }
   ],
   "source": [
    "oppenheimer_multisource_chain.invoke({\"question\" : \"What did people think of the Oppenheimer movie?\"})"
   ]
  },
  {
   "cell_type": "markdown",
   "metadata": {},
   "source": [
    "# Agent Creation\n",
    "\n",
    "Now we can finally start building our Agent!\n",
    "\n",
    "The first thing we'll need to do is provide our Agent a Toolbelt. (list of tools). Much like Batman, our LLM-powered Agent can use these tools as it sees fit. \n",
    "\n",
    "While the examples we're constructing in this notebook are straightforward for brevity and simplicities sake - there is no limit to what you can build with Agents, as we'll see as we progress through the program.\n",
    "\n",
    "So, let's begin by setting up our Tools!\n",
    "\n",
    "You'll notice that we have to set up a function to allow our `OppenheimerInfo` tool to interface with the Agent - this is due to it have a specific required input. Creating custom tools is a pattern that you'll want to grow acustomed to as you use LangChain more and more."
   ]
  },
  {
   "cell_type": "code",
   "execution_count": 107,
   "metadata": {},
   "outputs": [],
   "source": [
    "from langchain.agents import Tool\n",
    "\n",
    "def query_oppenheimer(input):\n",
    "    return oppenheimer_multisource_chain.invoke({\"question\" : input})\n",
    "\n",
    "tools = [\n",
    "    Tool(\n",
    "        name = \"BarbieInfo\",\n",
    "        func=barbie_retriever_agent_executor.invoke,\n",
    "        description=\"useful for when you need to answer questions about Barbie. Input should be a fully formed question.\"\n",
    "    ),\n",
    "    Tool(\n",
    "        name = \"OppenheimerInfo\",\n",
    "        func=query_oppenheimer,\n",
    "        description=\"useful for when you need to answer questions about Oppenheimer. Input should be a fully formed question.\"\n",
    "    ),\n",
    "]"
   ]
  },
  {
   "cell_type": "markdown",
   "metadata": {},
   "source": [
    "Now that we've set up our Agents toolbelt, let's set up the LLM that will be powering it!\n",
    "\n",
    "I would suggest playing around with these prompts - and experiments to find what works best for you."
   ]
  },
  {
   "cell_type": "code",
   "execution_count": 108,
   "metadata": {},
   "outputs": [],
   "source": [
    "from langchain.agents import ZeroShotAgent, AgentExecutor\n",
    "\n",
    "prefix = \"\"\"Have a conversation with a human, answering the following questions as best you can. You have access to the following tools:\"\"\"\n",
    "suffix = \"\"\"Begin!\"\n",
    "\n",
    "Question: {input}\n",
    "{agent_scratchpad}\"\"\"\n",
    "\n",
    "prompt = ZeroShotAgent.create_prompt(\n",
    "    tools, \n",
    "    prefix=prefix, \n",
    "    suffix=suffix, \n",
    "    input_variables=[\"input\", \"agent_scratchpad\"]\n",
    ")"
   ]
  },
  {
   "cell_type": "code",
   "execution_count": 109,
   "metadata": {},
   "outputs": [],
   "source": [
    "from langchain import LLMChain\n",
    "\n",
    "llm_chain = LLMChain(llm=llm, prompt=prompt)"
   ]
  },
  {
   "cell_type": "markdown",
   "metadata": {},
   "source": [
    "All that's left to do now is create our `ZeroShotAgent` and our `AgentExecutor`, which are the \"reasoner\" and \"actor\" halfs of the `ReAct` method of Agent implementation.\n",
    "\n",
    "Read all about the `ReAct` framework [here](https://react-lm.github.io/)"
   ]
  },
  {
   "cell_type": "code",
   "execution_count": 110,
   "metadata": {},
   "outputs": [],
   "source": [
    "barbenheimer_agent = ZeroShotAgent(llm_chain=llm_chain, tools=tools, verbose=True)\n",
    "barbenheimer_agent_chain = AgentExecutor.from_agent_and_tools(agent=barbenheimer_agent, tools=tools, verbose=True)"
   ]
  },
  {
   "cell_type": "markdown",
   "metadata": {},
   "source": [
    "## Conclusion\n",
    "\n",
    "All that is left to do now, is feed inputs to your Agent and watch it work!\n",
    "\n",
    "Remember to use the `{\"input\" : \"YOUR QUERY HERE\"}` format when prompting the Agent."
   ]
  },
  {
   "cell_type": "code",
   "execution_count": 97,
   "metadata": {},
   "outputs": [
    {
     "name": "stdout",
     "output_type": "stream",
     "text": [
      "\n",
      "\n",
      "\u001b[1m> Entering new AgentExecutor chain...\u001b[0m\n",
      "\u001b[32;1m\u001b[1;3mThought: I need to find information about the Barbie movie.\n",
      "Action: BarbieInfo\n",
      "Action Input: What did people like about the Barbie movie?\u001b[0m\n",
      "\n",
      "\u001b[1m> Entering new AgentExecutor chain...\u001b[0m\n",
      "\u001b[32;1m\u001b[1;3mBased on the available reviews, people liked several aspects of the Barbie movie:\n",
      "\n",
      "1. Visual Spectacle: The movie is praised for its wonderful visual spectacle, indicating that the visuals and cinematography were impressive.\n",
      "\n",
      "2. Creative Physical Comedy: The movie is described as having a great deal of creative physical comedy, suggesting that the humor and comedic elements were well-received by viewers.\n",
      "\n",
      "3. Empowerment Theme: Some viewers appreciated the theme of empowerment in the movie, which resonated with them and made the film a big hit.\n",
      "\n",
      "4. Darkly Satirical Look at Gender Structure: The movie is commended for taking a darkly satirical look at gender structure in society, providing a unique and thought-provoking perspective on the subject.\n",
      "\n",
      "5. Emotional Engagement: The main storyline of Barbie's existential crisis is mentioned as being emotionally engaging, indicating that it connected with the audience on an emotional level.\n",
      "\n",
      "6. Funny Comedy: The comedy in the movie is described as funny, with some viewers mentioning that it elicited laughs from everyone in the cinema.\n",
      "\n",
      "7. Music and Choreographed Dances: The music and choreographed dances in the movie are mentioned as being enjoyable, adding to the overall entertainment value.\n",
      "\n",
      "8. Nostalgic Representation of Barbie: The movie is praised for capturing the doll-like aesthetic and nostalgic representation of the Barbie brand, with elements such as plastic and fake food and drink, gliding cars, and actors who move and interact in a doll-like manner.\n",
      "\n",
      "It's important to note that these are just a few highlights from the available reviews, and individual opinions may vary.\u001b[0m\n",
      "\n",
      "\u001b[1m> Finished chain.\u001b[0m\n",
      "\n",
      "Observation: \u001b[36;1m\u001b[1;3m{'input': 'What did people like about the Barbie movie?', 'chat_history': [AIMessage(content=\"People liked several aspects of the Barbie movie. Here are some of the positive reviews:\\n\\n- The movie is described as a wonderful visual spectacle with creative physical comedy.\\n- It is praised for its theme of empowerment, which resonated with many viewers.\\n- The film takes a darkly satirical look at gender structure in society, providing a unique and thought-provoking perspective.\\n- The main storyline of Barbie's existential crisis is emotionally engaging.\\n- The comedy in the movie is funny and elicited laughs from the audience.\\n- The music and choreographed dances are enjoyable.\\n- The movie captures the doll-like aesthetic, with plastic and fake food and drink, gliding cars, and actors who move and interact in a doll-like manner.\\n\\nOverall, the Barbie movie received positive feedback for its visual appeal, themes, humor, and nostalgic representation of the Barbie brand.\", additional_kwargs={}, example=False), HumanMessage(content='What did people like about the Barbie movie?', additional_kwargs={}, example=False), AIMessage(content=\"Based on the available reviews, people liked several aspects of the Barbie movie:\\n\\n1. Visual Spectacle: The movie is praised for its wonderful visual spectacle, indicating that the visuals and cinematography were impressive.\\n\\n2. Creative Physical Comedy: The movie is described as having a great deal of creative physical comedy, suggesting that the humor and comedic elements were well-received by viewers.\\n\\n3. Empowerment Theme: Some viewers appreciated the theme of empowerment in the movie, which resonated with them and made the film a big hit.\\n\\n4. Darkly Satirical Look at Gender Structure: The movie is commended for taking a darkly satirical look at gender structure in society, providing a unique and thought-provoking perspective on the subject.\\n\\n5. Emotional Engagement: The main storyline of Barbie's existential crisis is mentioned as being emotionally engaging, indicating that it connected with the audience on an emotional level.\\n\\n6. Funny Comedy: The comedy in the movie is described as funny, with some viewers mentioning that it elicited laughs from everyone in the cinema.\\n\\n7. Doll-Like Aesthetic: The movie is praised for capturing a doll-like aesthetic, with plastic and fake food and drink, gliding cars, and actors who move and interact in a doll-like manner. This aspect adds to the charm and nostalgia of the Barbie brand.\\n\\nIt's important to note that these are just a few highlights from the available reviews, and individual opinions may vary.\", additional_kwargs={}, example=False), HumanMessage(content='What did people like about the Barbie movie?', additional_kwargs={}, example=False), AIMessage(content=\"Based on the available reviews, people liked several aspects of the Barbie movie:\\n\\n1. Visual Spectacle: The movie is praised for its wonderful visual spectacle, indicating that the visuals and cinematography were impressive.\\n\\n2. Creative Physical Comedy: The movie is described as having a great deal of creative physical comedy, suggesting that the humor and comedic elements were well-received by viewers.\\n\\n3. Empowerment Theme: Some viewers appreciated the theme of empowerment in the movie, which resonated with them and made the film a big hit.\\n\\n4. Darkly Satirical Look at Gender Structure: The movie is commended for taking a darkly satirical look at gender structure in society, providing a unique and thought-provoking perspective on the subject.\\n\\n5. Emotional Engagement: The main storyline of Barbie's existential crisis is mentioned as being emotionally engaging, indicating that it connected with the audience on an emotional level.\\n\\n6. Funny Comedy: The comedy in the movie is described as funny, with some viewers mentioning that it elicited laughs from everyone in the cinema.\\n\\n7. Music and Choreographed Dances: The music and choreographed dances in the movie are mentioned as being enjoyable, adding to the overall entertainment value.\\n\\n8. Nostalgic Representation of Barbie: The movie is praised for capturing the doll-like aesthetic and nostalgic representation of the Barbie brand, with elements such as plastic and fake food and drink, gliding cars, and actors who move and interact in a doll-like manner.\\n\\nIt's important to note that these are just a few highlights from the available reviews, and individual opinions may vary.\", additional_kwargs={}, example=False), HumanMessage(content='What did people like about the Barbie movie?', additional_kwargs={}, example=False), AIMessage(content=\"Based on the available reviews, people liked several aspects of the Barbie movie:\\n\\n1. Visual Spectacle: The movie is praised for its wonderful visual spectacle, indicating that the visuals and cinematography were impressive.\\n\\n2. Creative Physical Comedy: The movie is described as having a great deal of creative physical comedy, suggesting that the humor and comedic elements were well-received by viewers.\\n\\n3. Empowerment Theme: Some viewers appreciated the theme of empowerment in the movie, which resonated with them and made the film a big hit.\\n\\n4. Darkly Satirical Look at Gender Structure: The movie is commended for taking a darkly satirical look at gender structure in society, providing a unique and thought-provoking perspective on the subject.\\n\\n5. Emotional Engagement: The main storyline of Barbie's existential crisis is mentioned as being emotionally engaging, indicating that it connected with the audience on an emotional level.\\n\\n6. Funny Comedy: The comedy in the movie is described as funny, with some viewers mentioning that it elicited laughs from everyone in the cinema.\\n\\n7. Music and Choreographed Dances: The music and choreographed dances in the movie are mentioned as being enjoyable, adding to the overall entertainment value.\\n\\n8. Nostalgic Representation of Barbie: The movie is praised for capturing the doll-like aesthetic and nostalgic representation of the Barbie brand, with elements such as plastic and fake food and drink, gliding cars, and actors who move and interact in a doll-like manner.\\n\\nOverall, the Barbie movie received positive feedback for its visual appeal, themes, humor, and nostalgic representation of the Barbie brand.\", additional_kwargs={}, example=False), HumanMessage(content='What did people like about the Barbie movie?', additional_kwargs={}, example=False), AIMessage(content=\"Based on the available reviews, people liked several aspects of the Barbie movie:\\n\\n1. Visual Spectacle: The movie is praised for its wonderful visual spectacle, indicating that the visuals and cinematography were impressive.\\n\\n2. Creative Physical Comedy: The movie is described as having a great deal of creative physical comedy, suggesting that the humor and comedic elements were well-received by viewers.\\n\\n3. Empowerment Theme: Some viewers appreciated the theme of empowerment in the movie, which resonated with them and made the film a big hit.\\n\\n4. Darkly Satirical Look at Gender Structure: The movie is commended for taking a darkly satirical look at gender structure in society, providing a unique and thought-provoking perspective on the subject.\\n\\n5. Emotional Engagement: The main storyline of Barbie's existential crisis is mentioned as being emotionally engaging, indicating that it connected with the audience on an emotional level.\\n\\n6. Funny Comedy: The comedy in the movie is described as funny, with some viewers mentioning that it elicited laughs from everyone in the cinema.\\n\\n7. Music and Choreographed Dances: The music and choreographed dances in the movie are mentioned as being enjoyable, adding to the overall entertainment value.\\n\\n8. Nostalgic Representation of Barbie: The movie is praised for capturing the doll-like aesthetic and nostalgic representation of the Barbie brand, with elements such as plastic and fake food and drink, gliding cars, and actors who move and interact in a doll-like manner.\\n\\nIt's important to note that these are just a few highlights from the available reviews, and individual opinions may vary.\", additional_kwargs={}, example=False)], 'output': \"Based on the available reviews, people liked several aspects of the Barbie movie:\\n\\n1. Visual Spectacle: The movie is praised for its wonderful visual spectacle, indicating that the visuals and cinematography were impressive.\\n\\n2. Creative Physical Comedy: The movie is described as having a great deal of creative physical comedy, suggesting that the humor and comedic elements were well-received by viewers.\\n\\n3. Empowerment Theme: Some viewers appreciated the theme of empowerment in the movie, which resonated with them and made the film a big hit.\\n\\n4. Darkly Satirical Look at Gender Structure: The movie is commended for taking a darkly satirical look at gender structure in society, providing a unique and thought-provoking perspective on the subject.\\n\\n5. Emotional Engagement: The main storyline of Barbie's existential crisis is mentioned as being emotionally engaging, indicating that it connected with the audience on an emotional level.\\n\\n6. Funny Comedy: The comedy in the movie is described as funny, with some viewers mentioning that it elicited laughs from everyone in the cinema.\\n\\n7. Music and Choreographed Dances: The music and choreographed dances in the movie are mentioned as being enjoyable, adding to the overall entertainment value.\\n\\n8. Nostalgic Representation of Barbie: The movie is praised for capturing the doll-like aesthetic and nostalgic representation of the Barbie brand, with elements such as plastic and fake food and drink, gliding cars, and actors who move and interact in a doll-like manner.\\n\\nIt's important to note that these are just a few highlights from the available reviews, and individual opinions may vary.\", 'intermediate_steps': []}\u001b[0m\n",
      "Thought:\u001b[32;1m\u001b[1;3mI now know the final answer.\n",
      "Final Answer: People liked several aspects of the Barbie movie, including its visual spectacle, creative physical comedy, empowerment theme, darkly satirical look at gender structure, emotional engagement, funny comedy, music and choreographed dances, and nostalgic representation of the Barbie brand.\u001b[0m\n",
      "\n",
      "\u001b[1m> Finished chain.\u001b[0m\n"
     ]
    },
    {
     "data": {
      "text/plain": [
       "{'input': 'What did people like about the Barbie movie?',\n",
       " 'output': 'People liked several aspects of the Barbie movie, including its visual spectacle, creative physical comedy, empowerment theme, darkly satirical look at gender structure, emotional engagement, funny comedy, music and choreographed dances, and nostalgic representation of the Barbie brand.'}"
      ]
     },
     "execution_count": 97,
     "metadata": {},
     "output_type": "execute_result"
    }
   ],
   "source": [
    "barbenheimer_agent_chain.invoke({\"input\" : \"What did people like about the Barbie movie?\"})"
   ]
  },
  {
   "cell_type": "code",
   "execution_count": 98,
   "metadata": {},
   "outputs": [
    {
     "name": "stdout",
     "output_type": "stream",
     "text": [
      "\n",
      "\n",
      "\u001b[1m> Entering new AgentExecutor chain...\u001b[0m\n",
      "\u001b[32;1m\u001b[1;3mThought: I need to find out what people liked about the Oppenheimer movie.\n",
      "Action: OppenheimerInfo\n",
      "Action Input: \"What did people like about the Oppenheimer movie?\"\u001b[0m\n",
      "Observation: \u001b[33;1m\u001b[1;3mcontent='People liked the screenplay, performances of the cast (particularly those of Murphy and Downey), and the visuals of the Oppenheimer movie. They also praised the accuracy of the movie, with some scenes being taken word-for-word from the book or real-life events. The cinematography and practical effects were also praised.' additional_kwargs={} example=False\u001b[0m\n",
      "Thought:\u001b[32;1m\u001b[1;3mI now know what people liked about the Oppenheimer movie.\n",
      "Final Answer: People liked the screenplay, performances of the cast, visuals, accuracy, cinematography, and practical effects of the Oppenheimer movie.\u001b[0m\n",
      "\n",
      "\u001b[1m> Finished chain.\u001b[0m\n"
     ]
    },
    {
     "data": {
      "text/plain": [
       "'People liked the screenplay, performances of the cast, visuals, accuracy, cinematography, and practical effects of the Oppenheimer movie.'"
      ]
     },
     "execution_count": 98,
     "metadata": {},
     "output_type": "execute_result"
    }
   ],
   "source": [
    "barbenheimer_agent_chain.run({\"input\" : \"What did people like about the Oppenheimer movie?\"})"
   ]
  },
  {
   "cell_type": "code",
   "execution_count": 111,
   "metadata": {},
   "outputs": [
    {
     "name": "stdout",
     "output_type": "stream",
     "text": [
      "\n",
      "\n",
      "\u001b[1m> Entering new AgentExecutor chain...\u001b[0m\n",
      "\u001b[32;1m\u001b[1;3mThought: I need to find information about both Barbie and Oppenheimer to determine if their movies share similar themes or ideas.\n",
      "Action: BarbieInfo\n",
      "Action Input: Did Barbie movies have any specific themes or ideas?\u001b[0m\n",
      "\n",
      "\u001b[1m> Entering new AgentExecutor chain...\u001b[0m\n",
      "\u001b[32;1m\u001b[1;3mYes, Barbie movies often have specific themes and ideas. Some common themes in Barbie movies include friendship, adventure, self-discovery, empowerment, and the importance of being true to oneself. These movies often convey positive messages and teach valuable life lessons to young viewers. Additionally, Barbie movies often promote diversity, inclusivity, and the idea that anyone can achieve their dreams.\u001b[0m\n",
      "\n",
      "\u001b[1m> Finished chain.\u001b[0m\n",
      "\n",
      "Observation: \u001b[36;1m\u001b[1;3m{'input': 'Did Barbie movies have any specific themes or ideas?', 'chat_history': [HumanMessage(content='Did Barbie movies have any specific themes or ideas?', additional_kwargs={}, example=False), AIMessage(content='Yes, Barbie movies often have specific themes and ideas. Some common themes in Barbie movies include friendship, adventure, self-discovery, empowerment, and the importance of being true to oneself. These movies often convey positive messages and teach valuable life lessons to young viewers. Additionally, Barbie movies often promote diversity, inclusivity, and the idea that anyone can achieve their dreams.', additional_kwargs={}, example=False)], 'output': 'Yes, Barbie movies often have specific themes and ideas. Some common themes in Barbie movies include friendship, adventure, self-discovery, empowerment, and the importance of being true to oneself. These movies often convey positive messages and teach valuable life lessons to young viewers. Additionally, Barbie movies often promote diversity, inclusivity, and the idea that anyone can achieve their dreams.', 'intermediate_steps': []}\u001b[0m\n",
      "Thought:\u001b[32;1m\u001b[1;3mI now have information about the themes and ideas in Barbie movies. Now I need to find information about Oppenheimer's movies.\n",
      "Action: OppenheimerInfo\n",
      "Action Input: Did Oppenheimer's movies have any specific themes or ideas?\u001b[0m\n",
      "Observation: \u001b[33;1m\u001b[1;3mcontent=\"Yes, the Oppenheimer movie explores several themes and ideas. According to the information provided, the movie delves into Oppenheimer's internal conflict and guilt over his role in the atomic bombings of Hiroshima and Nagasaki. It aims to portray Oppenheimer as feeling genuine remorse for his actions, despite never publicly apologizing. The movie also touches on the themes of the red scare, McCarthyism, and the paranoia that followed Oppenheimer throughout his life. Additionally, the movie raises questions about the ethical implications of developing such a powerful weapon and the pressure faced by Oppenheimer in making decisions regarding its use.\" additional_kwargs={} example=False\u001b[0m\n",
      "Thought:\u001b[32;1m\u001b[1;3mI now have information about the themes and ideas in both Barbie movies and Oppenheimer's movies. Now I can compare them to see if they share similar themes or ideas.\n",
      "Final Answer: Yes, both Barbie movies and Oppenheimer's movies explore specific themes and ideas. Barbie movies often focus on friendship, adventure, self-discovery, empowerment, and the importance of being true to oneself. They also promote diversity, inclusivity, and the idea that anyone can achieve their dreams. On the other hand, Oppenheimer's movies delve into themes such as internal conflict, guilt, the red scare, McCarthyism, and the ethical implications of developing powerful weapons. While there may be some overlap in terms of exploring internal conflict and ethical dilemmas, the overall themes and ideas in Barbie movies and Oppenheimer's movies are quite different.\u001b[0m\n",
      "\n",
      "\u001b[1m> Finished chain.\u001b[0m\n"
     ]
    },
    {
     "data": {
      "text/plain": [
       "\"Yes, both Barbie movies and Oppenheimer's movies explore specific themes and ideas. Barbie movies often focus on friendship, adventure, self-discovery, empowerment, and the importance of being true to oneself. They also promote diversity, inclusivity, and the idea that anyone can achieve their dreams. On the other hand, Oppenheimer's movies delve into themes such as internal conflict, guilt, the red scare, McCarthyism, and the ethical implications of developing powerful weapons. While there may be some overlap in terms of exploring internal conflict and ethical dilemmas, the overall themes and ideas in Barbie movies and Oppenheimer's movies are quite different.\""
      ]
     },
     "execution_count": 111,
     "metadata": {},
     "output_type": "execute_result"
    }
   ],
   "source": [
    "barbenheimer_agent_chain.run({\"input\" : \"Did the movies Barbie and Oppenheimer share similar themes or ideas?\"})"
   ]
  },
  {
   "cell_type": "markdown",
   "metadata": {},
   "source": [
    "## Next Steps\n",
    "\n",
    "It's time to build a Chainlit (or Gradio) application and host it on Hugging Face Spaces! :ship:"
   ]
  }
 ],
 "metadata": {
  "kernelspec": {
   "display_name": "barbenheimer-week-1",
   "language": "python",
   "name": "python3"
  },
  "language_info": {
   "codemirror_mode": {
    "name": "ipython",
    "version": 3
   },
   "file_extension": ".py",
   "mimetype": "text/x-python",
   "name": "python",
   "nbconvert_exporter": "python",
   "pygments_lexer": "ipython3",
   "version": "3.11.4"
  },
  "orig_nbformat": 4
 },
 "nbformat": 4,
 "nbformat_minor": 2
}
